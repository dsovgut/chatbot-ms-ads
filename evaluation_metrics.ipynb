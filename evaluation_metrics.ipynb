{
 "cells": [
  {
   "cell_type": "code",
   "execution_count": 2,
   "id": "96b55dce-4a5e-4d5f-bb4f-32dad8f0e9fa",
   "metadata": {},
   "outputs": [
    {
     "name": "stderr",
     "output_type": "stream",
     "text": [
      "/Users/quynhanhnd2402/.genai/lib/python3.12/site-packages/tqdm/auto.py:21: TqdmWarning: IProgress not found. Please update jupyter and ipywidgets. See https://ipywidgets.readthedocs.io/en/stable/user_install.html\n",
      "  from .autonotebook import tqdm as notebook_tqdm\n"
     ]
    }
   ],
   "source": [
    "from rag import RAG\n",
    "from datasets import Dataset\n",
    "from ragas.metrics import context_recall, answer_correctness, answer_relevancy\n",
    "from ragas import evaluate"
   ]
  },
  {
   "cell_type": "code",
   "execution_count": 3,
   "id": "3a36caea-ac09-4ec2-855c-4603129b6c7a",
   "metadata": {},
   "outputs": [],
   "source": [
    "## Evaluation Metrics: Retrieval Accuracy & Answer Relevance\n",
    "\n",
    "test_data = [\n",
    "    {\n",
    "        \"question\": \"What are the core courses in the MS in Applied Data Science program?\",\n",
    "        \"answer\": \"The core courses in the MS in Applied Data Science program include Leadership and Consulting for Data Science, Data Science Capstone Project, Time Series Analysis and Forecasting, Statistical Models for Data Science, Machine Learning I, Machine Learning II, and either Data Engineering Platforms for Analytics or Big Data and Cloud Computing.\"\n",
    "    },\n",
    "    {\n",
    "        \"question\": \"What are the admission requirements for the MS in Applied Data Science program?\",\n",
    "        \"answer\": \"Applicants are required to submit a completed application form, have a bachelor’s degree from an accredited institution, provide transcripts from all post-secondary education, submit two letters of recommendation (preferably from a supervisor or academic instructor), a current resume or CV, a personal statement, and proof of English language proficiency if applicable. Submission of GRE or GMAT scores is optional.\"\n",
    "    },\n",
    "    {\n",
    "        \"question\": \"Can you provide information about the capstone project?\",\n",
    "        \"answer\": \"The capstone project is a required component of the program and is completed over two quarters. Students design and implement a research project, working on real-world data science problems in collaboration with industry partners. Full-time students typically begin the capstone in their third quarter, while part-time students generally start in their fifth quarter.\"\n",
    "    },\n",
    "    {\n",
    "        \"question\": \"What career outcomes are available for graduates?\",\n",
    "        \"answer\": \"Graduates of the MS in Applied Data Science program go on to work in a variety of roles including data scientist, machine learning engineer, data analyst, business intelligence analyst, and consultant. They are employed across industries such as technology, finance, healthcare, and consulting. The program provides tailored career services and access to a strong alumni network to support students’ career goals.\"\n",
    "    },\n",
    "    {\n",
    "        \"question\": \"Is the program available online?\",\n",
    "        \"answer\": \"Yes, the MS in Applied Data Science program is available in both in-person and online formats. The online program is overseen by the same faculty as the in-person program, ensuring that students receive the same curriculum and academic standards.\"\n",
    "    },\n",
    "    {\n",
    "        \"question\": \"How long does it take to complete the program?\",\n",
    "        \"answer\": \"Full-time students can typically complete the MS in Applied Data Science program in 12 to 18 months, while part-time students usually finish in 18 to 24 months depending on their course load and schedule.\"\n",
    "    }\n",
    "]\n",
    "\n",
    "test_dataset = Dataset.from_list(test_data)"
   ]
  },
  {
   "cell_type": "code",
   "execution_count": 4,
   "id": "32446519-f5f1-4b92-9daa-f696f3d1ee83",
   "metadata": {},
   "outputs": [
    {
     "name": "stdout",
     "output_type": "stream",
     "text": [
      "Loading existing vector store...\n"
     ]
    },
    {
     "name": "stderr",
     "output_type": "stream",
     "text": [
      "/Users/quynhanhnd2402/UChicago/Third Quarter/Generative AI/uchicago_msads_ai_chatbot/rag.py:34: LangChainDeprecationWarning: The class `Chroma` was deprecated in LangChain 0.2.9 and will be removed in 1.0. An updated version of the class exists in the :class:`~langchain-chroma package and should be used instead. To use it run `pip install -U :class:`~langchain-chroma` and import as `from :class:`~langchain_chroma import Chroma``.\n",
      "  self.vector_store = Chroma(persist_directory=persist_directory, embedding_function=self.embeddings)\n"
     ]
    }
   ],
   "source": [
    "rag = RAG()\n",
    "def rag_pipeline(question):\n",
    "    docs = rag.qa_chain.retriever.get_relevant_documents(question)\n",
    "    contexts = [doc.page_content for doc in docs]\n",
    "    context_str = \"\\n\".join(contexts)\n",
    "    answer = rag.model.invoke(f\"{context_str}\\n\\nQuestion: {question}\\nAnswer:\").content\n",
    "    \n",
    "    return {\n",
    "        \"question\": question,\n",
    "        \"answer\": answer,\n",
    "        \"retrieved_contexts\": contexts\n",
    "    }"
   ]
  },
  {
   "cell_type": "code",
   "execution_count": 5,
   "id": "9ce1a879-70e1-4602-a03e-57e28999f022",
   "metadata": {},
   "outputs": [
    {
     "name": "stderr",
     "output_type": "stream",
     "text": [
      "/var/folders/kf/8ms7_h8j11bf86d6c5ykldrw0000gn/T/ipykernel_26569/3061815289.py:3: LangChainDeprecationWarning: The method `BaseRetriever.get_relevant_documents` was deprecated in langchain-core 0.1.46 and will be removed in 1.0. Use :meth:`~invoke` instead.\n",
      "  docs = rag.qa_chain.retriever.get_relevant_documents(question)\n"
     ]
    }
   ],
   "source": [
    "eval_data = []\n",
    "for item in test_data:\n",
    "    question = item[\"question\"]\n",
    "    reference_answer = item[\"answer\"]\n",
    "    rag_output = rag_pipeline(question)\n",
    "    \n",
    "    eval_data.append({\n",
    "        \"question\": question,\n",
    "        \"answer\": rag_output[\"answer\"],\n",
    "        \"retrieved_contexts\": rag_output[\"retrieved_contexts\"],\n",
    "        \"reference\": reference_answer                  \n",
    "    })\n",
    "\n",
    "test_dataset = Dataset.from_list(eval_data)"
   ]
  },
  {
   "cell_type": "code",
   "execution_count": 6,
   "id": "4dc6d81b-e265-45c7-aad3-f1cb49a501cb",
   "metadata": {},
   "outputs": [
    {
     "name": "stderr",
     "output_type": "stream",
     "text": [
      "Evaluating: 100%|███████████████████████████████| 18/18 [00:24<00:00,  1.35s/it]"
     ]
    },
    {
     "name": "stdout",
     "output_type": "stream",
     "text": [
      "{'context_recall': 0.7500, 'answer_correctness': 0.6535, 'answer_relevancy': 0.7641}\n"
     ]
    },
    {
     "name": "stderr",
     "output_type": "stream",
     "text": [
      "\n"
     ]
    }
   ],
   "source": [
    "eval_results = evaluate(\n",
    "    dataset=test_dataset,\n",
    "    metrics=[context_recall, answer_correctness, answer_relevancy],\n",
    ")\n",
    "print(eval_results)"
   ]
  }
 ],
 "metadata": {
  "kernelspec": {
   "display_name": "Python (.genai)",
   "language": "python",
   "name": "genai"
  },
  "language_info": {
   "codemirror_mode": {
    "name": "ipython",
    "version": 3
   },
   "file_extension": ".py",
   "mimetype": "text/x-python",
   "name": "python",
   "nbconvert_exporter": "python",
   "pygments_lexer": "ipython3",
   "version": "3.12.2"
  }
 },
 "nbformat": 4,
 "nbformat_minor": 5
}
